{
  "nbformat": 4,
  "nbformat_minor": 0,
  "metadata": {
    "colab": {
      "provenance": [],
      "authorship_tag": "ABX9TyNWFD+sBb9D1iVBZ/nmKwFK",
      "include_colab_link": true
    },
    "kernelspec": {
      "name": "python3",
      "display_name": "Python 3"
    },
    "language_info": {
      "name": "python"
    }
  },
  "cells": [
    {
      "cell_type": "markdown",
      "metadata": {
        "id": "view-in-github",
        "colab_type": "text"
      },
      "source": [
        "<a href=\"https://colab.research.google.com/github/arjunarora1201/Tweet-Search/blob/main/TweetSearch.ipynb\" target=\"_parent\"><img src=\"https://colab.research.google.com/assets/colab-badge.svg\" alt=\"Open In Colab\"/></a>"
      ]
    },
    {
      "cell_type": "code",
      "execution_count": 1,
      "metadata": {
        "colab": {
          "base_uri": "https://localhost:8080/"
        },
        "id": "nkFWPaUPfZfo",
        "outputId": "a5f26706-d3d9-44ab-abec-7948bad8e9eb"
      },
      "outputs": [
        {
          "output_type": "stream",
          "name": "stdout",
          "text": [
            "Requirement already satisfied: tweepy in /usr/local/lib/python3.11/dist-packages (4.15.0)\n",
            "Requirement already satisfied: oauthlib<4,>=3.2.0 in /usr/local/lib/python3.11/dist-packages (from tweepy) (3.2.2)\n",
            "Requirement already satisfied: requests<3,>=2.27.0 in /usr/local/lib/python3.11/dist-packages (from tweepy) (2.32.3)\n",
            "Requirement already satisfied: requests-oauthlib<3,>=1.2.0 in /usr/local/lib/python3.11/dist-packages (from tweepy) (2.0.0)\n",
            "Requirement already satisfied: charset-normalizer<4,>=2 in /usr/local/lib/python3.11/dist-packages (from requests<3,>=2.27.0->tweepy) (3.4.2)\n",
            "Requirement already satisfied: idna<4,>=2.5 in /usr/local/lib/python3.11/dist-packages (from requests<3,>=2.27.0->tweepy) (3.10)\n",
            "Requirement already satisfied: urllib3<3,>=1.21.1 in /usr/local/lib/python3.11/dist-packages (from requests<3,>=2.27.0->tweepy) (2.4.0)\n",
            "Requirement already satisfied: certifi>=2017.4.17 in /usr/local/lib/python3.11/dist-packages (from requests<3,>=2.27.0->tweepy) (2025.6.15)\n"
          ]
        }
      ],
      "source": [
        "!pip install tweepy"
      ]
    },
    {
      "cell_type": "code",
      "source": [
        "import tweepy\n",
        "\n",
        "ACCESS_TOKEN = \"501682241-ZG1DshytyxUIUY8FXPoH2AXaDG9d5DQlORemfAzU\"\n",
        "ACCESS_TOKEN_SECRET = \"mxwCYkDjgWG5qWy8ONtVs3j2lxiYSxyberVVa92jmd27z\"\n",
        "CONSUMER_KEY = \"we0Drpnvc1FZNazKkiKoFWlGf\"\n",
        "CONSUMER_SECRET = \"OXRvmJwM6ca9k90XMIMoktSCa5XvjNieqJivcfjbOAlmpO6RhH\"\n",
        "\n",
        "auth = tweepy.OAuth1UserHandler(\n",
        "    CONSUMER_KEY, CONSUMER_SECRET,\n",
        "    ACCESS_TOKEN, ACCESS_TOKEN_SECRET\n",
        ")\n",
        "api = tweepy.API(auth)\n",
        "\n",
        "try:\n",
        "    tweets = api.search_tweets(q=\"dengue\", count=100, tweet_mode=\"extended\")\n",
        "\n",
        "    for tweet in tweets:\n",
        "        if hasattr(tweet, 'full_text'):\n",
        "            print(tweet.full_text)\n",
        "        else:\n",
        "            print(tweet.text)\n",
        "        print(\"---\")\n",
        "\n",
        "    print(f\"Total tweets fetched: {len(tweets)}\")\n",
        "\n",
        "except tweepy.Unauthorized as e:\n",
        "    print(\"❌ 401 Unauthorized: Check your API keys/tokens!\")\n",
        "except tweepy.TweepyException as e:\n",
        "    print(f\"❌ Error fetching tweets: {e}\")\n",
        "except Exception as e:\n",
        "    print(f\"❌ Unexpected error: {e}\")"
      ],
      "metadata": {
        "colab": {
          "base_uri": "https://localhost:8080/"
        },
        "id": "x-SSrKCxfufT",
        "outputId": "f8e4a0de-e4d0-4e13-b5a6-3486acc91288"
      },
      "execution_count": 2,
      "outputs": [
        {
          "output_type": "stream",
          "name": "stdout",
          "text": [
            "❌ Error fetching tweets: 403 Forbidden\n",
            "453 - You currently have access to a subset of X API V2 endpoints and limited v1.1 endpoints (e.g. media post, oauth) only. If you need access to this endpoint, you may need a different access level. You can learn more here: https://developer.x.com/en/portal/product\n"
          ]
        }
      ]
    }
  ]
}